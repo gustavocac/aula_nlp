{
 "cells": [
  {
   "cell_type": "code",
   "execution_count": 1,
   "metadata": {},
   "outputs": [],
   "source": [
    "%matplotlib inline"
   ]
  },
  {
   "cell_type": "code",
   "execution_count": null,
   "metadata": {},
   "outputs": [],
   "source": []
  },
  {
   "cell_type": "markdown",
   "metadata": {},
   "source": [
    "# Pré processamento de relatórios radiológicos\n"
   ]
  },
  {
   "cell_type": "code",
   "execution_count": 2,
   "metadata": {},
   "outputs": [
    {
     "name": "stdout",
     "output_type": "stream",
     "text": [
      "                                              report     label\n",
      "0  TÉCNICA: CORTES DO CRÂNIO COM TÉCNICA VOLUMÉTR...  positive\n",
      "1  EXAME DE TOMOGRAFIA COMPUTADORIZADA DE CRÂNIO\\...  positive\n",
      "2  TOMOGRAFIA COMPUTADORIZADA DE ABDOME E PELVE\\n...  positive\n",
      "3  TÉCNICA: CORTES DO CRÂNIO COM\\nTÉCNICA VOLUMÉT...  positive\n",
      "4  EXAME DE TOMOGRAFIA COMPUTADORIZADA DE CRÂNIO\\...  positive\n",
      "5  TOMOGRAFIA COMPUTADORIZADA DO CRÂNIO\\n\\nTÉCNIC...  positive\n",
      "6  TÉCNICA:\\n\\nREALIZADA AQUISIÇÃO VOLUMÉTRICA EM...  positive\n",
      "7  TOMOGRAFIA COMPUTADORIZADA DO CRÂNIO\\n\\nTÉCNIC...  positive\n",
      "8  TÉCNICA:\\n\\nREALIZADA A AQUISIÇÃO VOLUMÉTRICA ...  positive\n",
      "9  TOMOGRAFIA COMPUTADORIZADA DE CRANIO\\n\\nTÉCNIC...  positive\n"
     ]
    }
   ],
   "source": [
    "import pandas as pd\n",
    "import re\n",
    "df = pd.read_csv('UnifespRadReport-1A.csv', encoding=\"utf-8\")\n",
    "print(df.head(10))"
   ]
  },
  {
   "cell_type": "code",
   "execution_count": 3,
   "metadata": {},
   "outputs": [
    {
     "name": "stdout",
     "output_type": "stream",
     "text": [
      "EXAME DE TOMOGRAFIA COMPUTADORIZADA DE CRÂNIO\n",
      "TÉCNICA:\n",
      "CORTES DO CRÂNIO COM TÉCNICA VOLUMÉTRICA, E RECONSTRUÇÕES NO PLANO AXIAL PARALELO À LINHA ORBITOMEATAL.\n",
      "DESCRIÇÃO:\n",
      "CALOTA CRANIANA COM CRANIOTOMIA FRONTAL DIREITA\n",
      "ESPAÇO PERIENCEFÁLICO FRONTAL BILATERALMENTE ALARGADO, COM PRESENÇA DE GÁS. E CISTERNAS CONSERVADAS. PRESENÇA DE CLIPE METÁLICO DE ANEURISMA NA REGIÃO PARASSELAR DIREITA.\n",
      "VENTRÍ­CULOS LATERAIS ASSIMÉTRICOS, COM COMPRESÃO E DEFORMAÇÃO DO CORNO FRONTAL DIREITA. TERCEIRO E QUARTO VENTRÍ­CULOS DE ASPECTO NORMAL.\n",
      "PARÊNQUIMA CEREBELAR E DO TRONCO CEREBRAL DE ASPECTO NORMAL.\n",
      "PARÊNQUIMA CEREBRAL COM ÁREA HIPOATENUANTE SUBCORTICAL SUBFRONTAL DIREITA, QUE SE ASSOCIA A DISCRETO EFEITO EXPANSIVO. SULCOS CEREBRAIS NORMAIS.\n",
      "CONCLUSÃO:\n",
      "CONTROLE DO TRATAMENTO CIRÚRGICO PARA CLIPAGEM DE ANEURISMA DA REGIÃO PARASSELAR DIREITA. SINAIS DA MANIPULAÇÃO CIRÚRGICA RECENTE. ÁREA DE CONTUSÃO E GLIOSE SUBFRONTAL DIREITA.\n",
      "\n"
     ]
    }
   ],
   "source": [
    "print(df['report'][4])"
   ]
  },
  {
   "cell_type": "code",
   "execution_count": 4,
   "metadata": {},
   "outputs": [
    {
     "data": {
      "text/plain": [
       "'TÉCNICA: CORTES DO CRÂNIO COM\\nTÉCNICA VOLUMÉTRICA, E RECONSTRUÇÕES NO PLANO AXIAL PARALELO À LINHA ORBITOMEATAL,ANTES E APÓS A INJEÇÃO ENDOVENOSA DO MEIO DE CONTRASTE IODADO.\\n\\nDESCRIÇÃO:\\n\\nEXAME REALIZADO EM ----------.\\n\\nLEVE AUMENTO VOLUMÉTRICO DAS PARTES MOLES COM DIMINUTAS BOLHAS DE ENFISEMA E DENSIFICAÇÕES DO SUBCUTÂNEO NA PAREDE LATERAL DA ÓRBITA E MAIS EVIDENTE NAS REGIÕES TÊMPOROPARIETAL À ESQUERDA.\\n\\nFRATURA NA REGIÃO TEMPORAL ESTENDENDO-SE À MASTOIDE À ESQUERDA COM VELAMENTO POR PROVÁVEL CONTEÚDO HEMÁTICO NAS CÉLULAS DA MASTOIDE\\n\\nCONTEÚDO DENSO (HEMOSINUS) NAS CAVIDADES PARANASAIS; DISCRETO NOS SEIOS FRONTAIS, COM VELAMENTO TOTAL DOS SEIOS ESFENOIDAIS, NÍ\\xadVEIS LÍ\\xadQUIDOS NOS SEIOS MAXILARES E BOLHAS GASOSAS NAS CÉLULAS ETMOIDAIS.\\n\\nDISCRETAS DESCONTINUIDADES ÓSSEAS NAS PAREDES DO SEIO MAXILAR ESQUERDO E DOS SEIOS ESFENOIDAIS.\\n\\nAPAGAMENTO DIFUSO DOS SULCOS, FISSURAS E CISTERNAS ENCEFÁLICAS.\\n\\nREDUÇÃO DAS DIMENSÕES DO SISTEMA VENTRICULAR SUPRATENTORIAL.\\n\\nCOLABAMENTO TOTAL DO IV VENTRÍ\\xadCULO.\\n\\nDESVIO DE ESTRUTURAS DA LINHA MÉDIA / FISSURA'"
      ]
     },
     "execution_count": 4,
     "metadata": {},
     "output_type": "execute_result"
    }
   ],
   "source": [
    "df['report'][3]"
   ]
  },
  {
   "cell_type": "markdown",
   "metadata": {},
   "source": [
    "### Converter a coluna texto para lowercase\n"
   ]
  },
  {
   "cell_type": "code",
   "execution_count": 5,
   "metadata": {},
   "outputs": [],
   "source": [
    "df['report'] = df['report'].str.lower()"
   ]
  },
  {
   "cell_type": "code",
   "execution_count": 6,
   "metadata": {},
   "outputs": [
    {
     "data": {
      "text/plain": [
       "'técnica: cortes do crânio com\\ntécnica volumétrica, e reconstruções no plano axial paralelo à linha orbitomeatal,antes e após a injeção endovenosa do meio de contraste iodado.\\n\\ndescrição:\\n\\nexame realizado em ----------.\\n\\nleve aumento volumétrico das partes moles com diminutas bolhas de enfisema e densificações do subcutâneo na parede lateral da órbita e mais evidente nas regiões têmporoparietal à esquerda.\\n\\nfratura na região temporal estendendo-se à mastoide à esquerda com velamento por provável conteúdo hemático nas células da mastoide\\n\\nconteúdo denso (hemosinus) nas cavidades paranasais; discreto nos seios frontais, com velamento total dos seios esfenoidais, ní\\xadveis lí\\xadquidos nos seios maxilares e bolhas gasosas nas células etmoidais.\\n\\ndiscretas descontinuidades ósseas nas paredes do seio maxilar esquerdo e dos seios esfenoidais.\\n\\napagamento difuso dos sulcos, fissuras e cisternas encefálicas.\\n\\nredução das dimensões do sistema ventricular supratentorial.\\n\\ncolabamento total do iv ventrí\\xadculo.\\n\\ndesvio de estruturas da linha média / fissura'"
      ]
     },
     "execution_count": 6,
     "metadata": {},
     "output_type": "execute_result"
    }
   ],
   "source": [
    "df['report'][3]"
   ]
  },
  {
   "cell_type": "markdown",
   "metadata": {},
   "source": [
    "### Transformar para unidecode para remove accents\n"
   ]
  },
  {
   "cell_type": "code",
   "execution_count": 7,
   "metadata": {},
   "outputs": [],
   "source": [
    "import unidecode\n",
    "df['report'] = df.apply(lambda row: unidecode.unidecode(str(row['report'])), axis=1 )"
   ]
  },
  {
   "cell_type": "code",
   "execution_count": 8,
   "metadata": {
    "scrolled": true
   },
   "outputs": [
    {
     "data": {
      "text/plain": [
       "'exame de tomografia computadorizada de cranio\\ntecnica:\\ncortes do cranio com tecnica volumetrica, e reconstrucoes no plano axial paralelo a linha orbitomeatal.\\ndescricao:\\ncalota craniana com craniotomia frontal direita\\nespaco periencefalico frontal bilateralmente alargado, com presenca de gas. e cisternas conservadas. presenca de clipe metalico de aneurisma na regiao parasselar direita.\\nventriculos laterais assimetricos, com compresao e deformacao do corno frontal direita. terceiro e quarto ventriculos de aspecto normal.\\nparenquima cerebelar e do tronco cerebral de aspecto normal.\\nparenquima cerebral com area hipoatenuante subcortical subfrontal direita, que se associa a discreto efeito expansivo. sulcos cerebrais normais.\\nconclusao:\\ncontrole do tratamento cirurgico para clipagem de aneurisma da regiao parasselar direita. sinais da manipulacao cirurgica recente. area de contusao e gliose subfrontal direita.\\n'"
      ]
     },
     "execution_count": 8,
     "metadata": {},
     "output_type": "execute_result"
    }
   ],
   "source": [
    "df['report'][4]"
   ]
  },
  {
   "cell_type": "markdown",
   "metadata": {},
   "source": [
    "##  O que é RegEx?\n",
    "#### Uma expressão regular (Regex) é uma notação que serve para caracterizar um conjunto de strings. \n",
    "#### O campo do relatório (\"report\"), pode conter a descrição do exame, a conclusão, bem como a técnica do exame. As seguintes abordagens de regex destinam-se a extrair a descrição do exame, a conclusão e  técnica.\n",
    "#### Ou seja EXTRAI a conclusão, técnica e descrição em  novas colunas.\n"
   ]
  },
  {
   "cell_type": "code",
   "execution_count": null,
   "metadata": {},
   "outputs": [],
   "source": []
  },
  {
   "cell_type": "code",
   "execution_count": 9,
   "metadata": {},
   "outputs": [
    {
     "name": "stdout",
     "output_type": "stream",
     "text": [
      "30\n"
     ]
    }
   ],
   "source": [
    "\n",
    "p = re.compile(\"impressao\\s+diagnostica+\\s?:(.*)\", re.DOTALL)\n",
    "df[\"conclusao\"] = df.apply(lambda row: p.search(str(row['report'])).group(1) if p.search(str(row['report'])) else '', axis=1)\n",
    "p = re.compile(\"impressao\\s+\\w+\\s?:(.*)\", re.DOTALL)\n",
    "df[\"conclusao\"] = df.apply(lambda row: p.search(str(row['report'])).group(1) if (row['conclusao']=='' and p.search(str(row['report']))) else row['conclusao'], axis=1)\n",
    "p = re.compile(\"conclusao+\\s?:(.*)\", re.DOTALL)\n",
    "df[\"conclusao\"] = df.apply(lambda row: p.search(str(row['report'])).group(1) if (row['conclusao']=='' and p.search(str(row['report']))) else row['conclusao'], axis=1)\n",
    "p = re.compile(\"impressao(.*)\", re.DOTALL)\n",
    "df[\"conclusao\"] = df.apply(lambda row: p.search(str(row['report'])).group(1) if (row['conclusao']=='' and p.search(str(row['report']))) else row['conclusao'], axis=1)\n",
    "p = re.compile(\"conclusao(.*)\", re.DOTALL)\n",
    "df[\"conclusao\"] = df.apply(lambda row: p.search(str(row['report'])).group(1) if (row['conclusao']=='' and p.search(str(row['report']))) else row['conclusao'], axis=1)\n",
    "\n",
    "print(len(df[(df['conclusao']!= '')]))"
   ]
  },
  {
   "cell_type": "code",
   "execution_count": 10,
   "metadata": {},
   "outputs": [
    {
     "data": {
      "text/plain": [
       "'\\ncontrole do tratamento cirurgico para clipagem de aneurisma da regiao parasselar direita. sinais da manipulacao cirurgica recente. area de contusao e gliose subfrontal direita.\\n'"
      ]
     },
     "execution_count": 10,
     "metadata": {},
     "output_type": "execute_result"
    }
   ],
   "source": [
    "df['conclusao'][4]"
   ]
  },
  {
   "cell_type": "code",
   "execution_count": 11,
   "metadata": {},
   "outputs": [],
   "source": [
    "p = re.compile(\"(.*)impressao\\s+diagnostica+\\s?:\", re.DOTALL)\n",
    "df[\"relatorio_sem_conclusao\"] = df.apply(lambda row: p.search(str(row['report'])).group(1) if p.search(str(row['report'])) else '', axis=1)\n",
    "p = re.compile(\"(.*)impressao\\s+\\w+\\s?:(.*)\", re.DOTALL)\n",
    "df[\"relatorio_sem_conclusao\"] = df.apply(lambda row: p.search(str(row['report'])).group(1) if (row['relatorio_sem_conclusao']=='' and p.search(str(row['report']))) else row['relatorio_sem_conclusao'], axis=1)\n",
    "p = re.compile(\"(.*)conclusao+\\s?\", re.DOTALL)\n",
    "df[\"relatorio_sem_conclusao\"] = df.apply(lambda row: p.search(str(row['report'])).group(1) if (row['relatorio_sem_conclusao']=='' and p.search(str(row['report']))) else row['report'], axis=1)\n"
   ]
  },
  {
   "cell_type": "code",
   "execution_count": 12,
   "metadata": {},
   "outputs": [],
   "source": [
    "p = re.compile(\"descricao?:(.*)\", re.DOTALL)\n",
    "df[\"descricao\"] = df.apply(lambda row: p.search(str(row['relatorio_sem_conclusao'])).group(1) if p.search(str(row['relatorio_sem_conclusao'])) else '', axis=1)\n",
    "p = re.compile(\"analise\\s+\\w+\\s?:(.*)\", re.DOTALL)\n",
    "df[\"descricao\"] = df.apply(lambda row: p.search(str(row['relatorio_sem_conclusao'])).group(1) if (row['descricao']=='' and p.search(str(row['relatorio_sem_conclusao']))) else row['descricao'], axis=1)\n",
    "p = re.compile(\"descricao(.*)\", re.DOTALL)\n",
    "df[\"descricao\"] = df.apply(lambda row: p.search(str(row['relatorio_sem_conclusao'])).group(1) if (row['descricao']=='' and p.search(str(row['relatorio_sem_conclusao']))) else row['descricao'], axis=1)\n",
    "p = re.compile(\"analise(.*)\", re.DOTALL)\n",
    "df[\"descricao\"] = df.apply(lambda row: p.search(str(row['relatorio_sem_conclusao'])).group(1) if (row['descricao']=='' and p.search(str(row['relatorio_sem_conclusao']))) else row['descricao'], axis=1)\n"
   ]
  },
  {
   "cell_type": "code",
   "execution_count": 13,
   "metadata": {},
   "outputs": [
    {
     "data": {
      "text/plain": [
       "'\\ncalota craniana com craniotomia frontal direita\\nespaco periencefalico frontal bilateralmente alargado, com presenca de gas. e cisternas conservadas. presenca de clipe metalico de aneurisma na regiao parasselar direita.\\nventriculos laterais assimetricos, com compresao e deformacao do corno frontal direita. terceiro e quarto ventriculos de aspecto normal.\\nparenquima cerebelar e do tronco cerebral de aspecto normal.\\nparenquima cerebral com area hipoatenuante subcortical subfrontal direita, que se associa a discreto efeito expansivo. sulcos cerebrais normais.\\n'"
      ]
     },
     "execution_count": 13,
     "metadata": {},
     "output_type": "execute_result"
    }
   ],
   "source": [
    "df['descricao'][4]"
   ]
  },
  {
   "cell_type": "code",
   "execution_count": null,
   "metadata": {},
   "outputs": [],
   "source": []
  },
  {
   "cell_type": "code",
   "execution_count": 14,
   "metadata": {},
   "outputs": [],
   "source": [
    "df.to_csv(\"report_sentences_selected.csv\")"
   ]
  },
  {
   "cell_type": "markdown",
   "metadata": {},
   "source": [
    "#### Aplicar pipeline de pré-processador comum: normalização, stemização, tokenização, stopword e lematização\n"
   ]
  },
  {
   "cell_type": "markdown",
   "metadata": {},
   "source": [
    "O processo de normalização trata de colocar todas as palavras em caixa baixa, retirando os acentos ou cedilha. Isto faz com que os algoritmos de análise não tratem palavras iguais como sendo diferentes apenas por apresentarem a letra inicial como maiúscula, ou um erro de acentuação, por exemplo.\n",
    "\n",
    "A lematização é o processo, efetivamente, de deflexionar uma palavra para determinar o seu lema (as flexões chamam-se lexemas).\n",
    "\n",
    "A stemização (do inglês, stemming) é o processo de reduzir palavras flexionadas (ou às vezes derivadas) ao seu tronco (stem), base ou raiz, geralmente uma forma da palavra escrita.\n",
    "\n",
    "Stop words são palavras que podem ser consideradas irrelevantes para o conjunto de resultados a ser exibido em uma busca realizada em uma search engine. Exemplos: as, e, os, de, para, com, sem, foi.\n",
    "\n",
    "A tokenização, também conhecida como segmentação de palavras, quebra a sequência de caracteres em um texto localizando o limite de cada palavra, ou seja, os pontos onde uma palavra termina e outra começa."
   ]
  },
  {
   "cell_type": "code",
   "execution_count": 15,
   "metadata": {},
   "outputs": [],
   "source": [
    "#Remova os caracteres de pontuação, exceto '.' como isso define frases\n",
    "df['descricao_clean'] = df.apply(lambda row: re.sub(r\"[^a-zA-Z0-9\\\\.]\", \" \", row['descricao']), axis=1 )\n",
    "df['descricao_clean'] = df.apply(lambda row: row['descricao_clean'].replace('.', ' . '), axis=1)\n",
    "df['descricao_clean'] = df.apply(lambda row: re.sub('(.*?)\\\\.\\s*(.*)', r'\\1 . \\2', row['descricao_clean']), axis=1 )"
   ]
  },
  {
   "cell_type": "code",
   "execution_count": 16,
   "metadata": {},
   "outputs": [
    {
     "data": {
      "text/plain": [
       "' calota craniana com craniotomia frontal direita espaco periencefalico frontal bilateralmente alargado  com presenca de gas  . e cisternas conservadas .  presenca de clipe metalico de aneurisma na regiao parasselar direita .  ventriculos laterais assimetricos  com compresao e deformacao do corno frontal direita .  terceiro e quarto ventriculos de aspecto normal .  parenquima cerebelar e do tronco cerebral de aspecto normal .  parenquima cerebral com area hipoatenuante subcortical subfrontal direita  que se associa a discreto efeito expansivo .  sulcos cerebrais normais .  '"
      ]
     },
     "execution_count": 16,
     "metadata": {},
     "output_type": "execute_result"
    }
   ],
   "source": [
    "df['descricao_clean'][4]"
   ]
  },
  {
   "cell_type": "code",
   "execution_count": 17,
   "metadata": {},
   "outputs": [
    {
     "data": {
      "text/plain": [
       "'positive'"
      ]
     },
     "execution_count": 17,
     "metadata": {},
     "output_type": "execute_result"
    }
   ],
   "source": [
    "df['label'][4]"
   ]
  },
  {
   "cell_type": "code",
   "execution_count": 18,
   "metadata": {},
   "outputs": [
    {
     "name": "stderr",
     "output_type": "stream",
     "text": [
      "[nltk_data] Downloading package rslp to /Users/gustavo/nltk_data...\n",
      "[nltk_data]   Package rslp is already up-to-date!\n",
      "[nltk_data] Downloading package stopwords to\n",
      "[nltk_data]     /Users/gustavo/nltk_data...\n",
      "[nltk_data]   Package stopwords is already up-to-date!\n"
     ]
    },
    {
     "data": {
      "text/plain": [
       "True"
      ]
     },
     "execution_count": 18,
     "metadata": {},
     "output_type": "execute_result"
    }
   ],
   "source": [
    "import nltk\n",
    "nltk.download('rslp')\n",
    "nltk.download('stopwords')"
   ]
  },
  {
   "cell_type": "code",
   "execution_count": 19,
   "metadata": {},
   "outputs": [
    {
     "name": "stdout",
     "output_type": "stream",
     "text": [
      "['de', 'a', 'o', 'que', 'e', 'é', 'do', 'da', 'em', 'um', 'para', 'com', 'não', 'uma', 'os', 'no', 'se', 'na', 'por', 'mais', 'as', 'dos', 'como', 'mas', 'ao', 'ele', 'das', 'à', 'seu', 'sua', 'ou', 'quando', 'muito', 'nos', 'já', 'eu', 'também', 'só', 'pelo', 'pela']\n"
     ]
    }
   ],
   "source": [
    "# Stemmize and remover stopwords\n",
    "from nltk.corpus import stopwords\n",
    "stemmer = nltk.stem.RSLPStemmer()\n",
    "stopwords = nltk.corpus.stopwords.words('portuguese')\n",
    "print(stopwords[:40])"
   ]
  },
  {
   "cell_type": "code",
   "execution_count": 20,
   "metadata": {},
   "outputs": [],
   "source": [
    "\n",
    "\n",
    "reports = []\n",
    "\n",
    "for report in pd.Series(df['descricao_clean']).tolist():\n",
    "    new_report = ''\n",
    "    for w in report.split():\n",
    "        w = w.strip()\n",
    "        if w not in stopwords:\n",
    "            new_report = new_report + ' ' + stemmer.stem(w)\n",
    "    reports.append(new_report)\n",
    "df['preprocessed'] = pd.Series(reports)   \n"
   ]
  },
  {
   "cell_type": "code",
   "execution_count": 21,
   "metadata": {},
   "outputs": [
    {
     "data": {
      "text/plain": [
       "' calot crani craniotom front direit espac periencefal front bilater alarg presenc ga . cistern conserv . presenc clip metal aneurism regia parassel direit . ventricul later assimetr compresa deformaca corn front direit . terc quart ventricul aspect norm . parenqu cerebel tronc cerebr aspect norm . parenqu cerebr are hipoatenu subcortic subfront direit assoc discret efeit expans . sulc cerebr norm .'"
      ]
     },
     "execution_count": 21,
     "metadata": {},
     "output_type": "execute_result"
    }
   ],
   "source": [
    "df['preprocessed'][4]"
   ]
  },
  {
   "cell_type": "code",
   "execution_count": 22,
   "metadata": {},
   "outputs": [
    {
     "data": {
      "text/html": [
       "<div>\n",
       "<style scoped>\n",
       "    .dataframe tbody tr th:only-of-type {\n",
       "        vertical-align: middle;\n",
       "    }\n",
       "\n",
       "    .dataframe tbody tr th {\n",
       "        vertical-align: top;\n",
       "    }\n",
       "\n",
       "    .dataframe thead th {\n",
       "        text-align: right;\n",
       "    }\n",
       "</style>\n",
       "<table border=\"1\" class=\"dataframe\">\n",
       "  <thead>\n",
       "    <tr style=\"text-align: right;\">\n",
       "      <th></th>\n",
       "      <th>report</th>\n",
       "      <th>label</th>\n",
       "      <th>conclusao</th>\n",
       "      <th>relatorio_sem_conclusao</th>\n",
       "      <th>descricao</th>\n",
       "      <th>descricao_clean</th>\n",
       "      <th>preprocessed</th>\n",
       "    </tr>\n",
       "  </thead>\n",
       "  <tbody>\n",
       "    <tr>\n",
       "      <th>0</th>\n",
       "      <td>tecnica: cortes do cranio com tecnica volumetr...</td>\n",
       "      <td>positive</td>\n",
       "      <td></td>\n",
       "      <td>tecnica: cortes do cranio com tecnica volumetr...</td>\n",
       "      <td>\\naumento das partes moles das regioes peri or...</td>\n",
       "      <td>aumento das partes moles das regioes peri orb...</td>\n",
       "      <td>aument part mol regio per orbit mai direit . ...</td>\n",
       "    </tr>\n",
       "    <tr>\n",
       "      <th>1</th>\n",
       "      <td>exame de tomografia computadorizada de cranio\\...</td>\n",
       "      <td>positive</td>\n",
       "      <td>\\ncontrole pos tratamento endovascular de hsa....</td>\n",
       "      <td>exame de tomografia computadorizada de cranio\\...</td>\n",
       "      <td>\\ncalota craniana com perda da aeracao da mast...</td>\n",
       "      <td>calota craniana com perda da aeracao da masto...</td>\n",
       "      <td>calot crani perd aeraca mastoid direit . espa...</td>\n",
       "    </tr>\n",
       "    <tr>\n",
       "      <th>2</th>\n",
       "      <td>tomografia computadorizada de abdome e pelve\\n...</td>\n",
       "      <td>positive</td>\n",
       "      <td></td>\n",
       "      <td>tomografia computadorizada de abdome e pelve\\n...</td>\n",
       "      <td>\\n\\npancreas de dimensoes aumentadas, principa...</td>\n",
       "      <td>pancreas de dimensoes aumentadas  principalm...</td>\n",
       "      <td>pancre dimenso aument princip cabec process u...</td>\n",
       "    </tr>\n",
       "    <tr>\n",
       "      <th>3</th>\n",
       "      <td>tecnica: cortes do cranio com\\ntecnica volumet...</td>\n",
       "      <td>positive</td>\n",
       "      <td></td>\n",
       "      <td>tecnica: cortes do cranio com\\ntecnica volumet...</td>\n",
       "      <td>\\n\\nexame realizado em ----------.\\n\\nleve aum...</td>\n",
       "      <td>exame realizado em             . leve aument...</td>\n",
       "      <td>exam realiz . lev aument volumetr part mol di...</td>\n",
       "    </tr>\n",
       "    <tr>\n",
       "      <th>4</th>\n",
       "      <td>exame de tomografia computadorizada de cranio\\...</td>\n",
       "      <td>positive</td>\n",
       "      <td>\\ncontrole do tratamento cirurgico para clipag...</td>\n",
       "      <td>exame de tomografia computadorizada de cranio\\...</td>\n",
       "      <td>\\ncalota craniana com craniotomia frontal dire...</td>\n",
       "      <td>calota craniana com craniotomia frontal direi...</td>\n",
       "      <td>calot crani craniotom front direit espac peri...</td>\n",
       "    </tr>\n",
       "  </tbody>\n",
       "</table>\n",
       "</div>"
      ],
      "text/plain": [
       "                                              report     label  \\\n",
       "0  tecnica: cortes do cranio com tecnica volumetr...  positive   \n",
       "1  exame de tomografia computadorizada de cranio\\...  positive   \n",
       "2  tomografia computadorizada de abdome e pelve\\n...  positive   \n",
       "3  tecnica: cortes do cranio com\\ntecnica volumet...  positive   \n",
       "4  exame de tomografia computadorizada de cranio\\...  positive   \n",
       "\n",
       "                                           conclusao  \\\n",
       "0                                                      \n",
       "1  \\ncontrole pos tratamento endovascular de hsa....   \n",
       "2                                                      \n",
       "3                                                      \n",
       "4  \\ncontrole do tratamento cirurgico para clipag...   \n",
       "\n",
       "                             relatorio_sem_conclusao  \\\n",
       "0  tecnica: cortes do cranio com tecnica volumetr...   \n",
       "1  exame de tomografia computadorizada de cranio\\...   \n",
       "2  tomografia computadorizada de abdome e pelve\\n...   \n",
       "3  tecnica: cortes do cranio com\\ntecnica volumet...   \n",
       "4  exame de tomografia computadorizada de cranio\\...   \n",
       "\n",
       "                                           descricao  \\\n",
       "0  \\naumento das partes moles das regioes peri or...   \n",
       "1  \\ncalota craniana com perda da aeracao da mast...   \n",
       "2  \\n\\npancreas de dimensoes aumentadas, principa...   \n",
       "3  \\n\\nexame realizado em ----------.\\n\\nleve aum...   \n",
       "4  \\ncalota craniana com craniotomia frontal dire...   \n",
       "\n",
       "                                     descricao_clean  \\\n",
       "0   aumento das partes moles das regioes peri orb...   \n",
       "1   calota craniana com perda da aeracao da masto...   \n",
       "2    pancreas de dimensoes aumentadas  principalm...   \n",
       "3    exame realizado em             . leve aument...   \n",
       "4   calota craniana com craniotomia frontal direi...   \n",
       "\n",
       "                                        preprocessed  \n",
       "0   aument part mol regio per orbit mai direit . ...  \n",
       "1   calot crani perd aeraca mastoid direit . espa...  \n",
       "2   pancre dimenso aument princip cabec process u...  \n",
       "3   exam realiz . lev aument volumetr part mol di...  \n",
       "4   calot crani craniotom front direit espac peri...  "
      ]
     },
     "execution_count": 22,
     "metadata": {},
     "output_type": "execute_result"
    }
   ],
   "source": [
    "df.head()"
   ]
  },
  {
   "cell_type": "code",
   "execution_count": 23,
   "metadata": {},
   "outputs": [],
   "source": [
    "import pandas as pd\n",
    "import numpy as np\n",
    "import matplotlib.pyplot as plt\n",
    "import seaborn as sns\n",
    "\n",
    "%matplotlib inline\n",
    "sns.set_style(\"whitegrid\")\n",
    "plt.style.use(\"fivethirtyeight\")"
   ]
  },
  {
   "cell_type": "code",
   "execution_count": 24,
   "metadata": {},
   "outputs": [
    {
     "data": {
      "text/html": [
       "<div>\n",
       "<style scoped>\n",
       "    .dataframe tbody tr th:only-of-type {\n",
       "        vertical-align: middle;\n",
       "    }\n",
       "\n",
       "    .dataframe tbody tr th {\n",
       "        vertical-align: top;\n",
       "    }\n",
       "\n",
       "    .dataframe thead th {\n",
       "        text-align: right;\n",
       "    }\n",
       "</style>\n",
       "<table border=\"1\" class=\"dataframe\">\n",
       "  <thead>\n",
       "    <tr style=\"text-align: right;\">\n",
       "      <th></th>\n",
       "      <th>report</th>\n",
       "      <th>label</th>\n",
       "      <th>conclusao</th>\n",
       "      <th>relatorio_sem_conclusao</th>\n",
       "      <th>descricao</th>\n",
       "      <th>descricao_clean</th>\n",
       "      <th>preprocessed</th>\n",
       "    </tr>\n",
       "  </thead>\n",
       "  <tbody>\n",
       "    <tr>\n",
       "      <th>count</th>\n",
       "      <td>557</td>\n",
       "      <td>557</td>\n",
       "      <td>557</td>\n",
       "      <td>557</td>\n",
       "      <td>557</td>\n",
       "      <td>557</td>\n",
       "      <td>557</td>\n",
       "    </tr>\n",
       "    <tr>\n",
       "      <th>unique</th>\n",
       "      <td>557</td>\n",
       "      <td>2</td>\n",
       "      <td>30</td>\n",
       "      <td>557</td>\n",
       "      <td>529</td>\n",
       "      <td>529</td>\n",
       "      <td>528</td>\n",
       "    </tr>\n",
       "    <tr>\n",
       "      <th>top</th>\n",
       "      <td>tomografia computadorizada do punho direito\\n\\...</td>\n",
       "      <td>negative</td>\n",
       "      <td></td>\n",
       "      <td>tomografia computadorizada do punho direito\\n\\...</td>\n",
       "      <td></td>\n",
       "      <td></td>\n",
       "      <td></td>\n",
       "    </tr>\n",
       "    <tr>\n",
       "      <th>freq</th>\n",
       "      <td>1</td>\n",
       "      <td>483</td>\n",
       "      <td>527</td>\n",
       "      <td>1</td>\n",
       "      <td>24</td>\n",
       "      <td>24</td>\n",
       "      <td>24</td>\n",
       "    </tr>\n",
       "  </tbody>\n",
       "</table>\n",
       "</div>"
      ],
      "text/plain": [
       "                                                   report     label conclusao  \\\n",
       "count                                                 557       557       557   \n",
       "unique                                                557         2        30   \n",
       "top     tomografia computadorizada do punho direito\\n\\...  negative             \n",
       "freq                                                    1       483       527   \n",
       "\n",
       "                                  relatorio_sem_conclusao descricao  \\\n",
       "count                                                 557       557   \n",
       "unique                                                557       529   \n",
       "top     tomografia computadorizada do punho direito\\n\\...             \n",
       "freq                                                    1        24   \n",
       "\n",
       "       descricao_clean preprocessed  \n",
       "count              557          557  \n",
       "unique             529          528  \n",
       "top                                  \n",
       "freq                24           24  "
      ]
     },
     "execution_count": 24,
     "metadata": {},
     "output_type": "execute_result"
    }
   ],
   "source": [
    "df.describe()"
   ]
  },
  {
   "cell_type": "code",
   "execution_count": 25,
   "metadata": {},
   "outputs": [
    {
     "data": {
      "text/html": [
       "<div>\n",
       "<style scoped>\n",
       "    .dataframe tbody tr th:only-of-type {\n",
       "        vertical-align: middle;\n",
       "    }\n",
       "\n",
       "    .dataframe tbody tr th {\n",
       "        vertical-align: top;\n",
       "    }\n",
       "\n",
       "    .dataframe thead tr th {\n",
       "        text-align: left;\n",
       "    }\n",
       "\n",
       "    .dataframe thead tr:last-of-type th {\n",
       "        text-align: right;\n",
       "    }\n",
       "</style>\n",
       "<table border=\"1\" class=\"dataframe\">\n",
       "  <thead>\n",
       "    <tr>\n",
       "      <th></th>\n",
       "      <th colspan=\"4\" halign=\"left\">report</th>\n",
       "      <th colspan=\"4\" halign=\"left\">conclusao</th>\n",
       "      <th colspan=\"2\" halign=\"left\">relatorio_sem_conclusao</th>\n",
       "      <th>...</th>\n",
       "      <th colspan=\"2\" halign=\"left\">descricao</th>\n",
       "      <th colspan=\"4\" halign=\"left\">descricao_clean</th>\n",
       "      <th colspan=\"4\" halign=\"left\">preprocessed</th>\n",
       "    </tr>\n",
       "    <tr>\n",
       "      <th></th>\n",
       "      <th>count</th>\n",
       "      <th>unique</th>\n",
       "      <th>top</th>\n",
       "      <th>freq</th>\n",
       "      <th>count</th>\n",
       "      <th>unique</th>\n",
       "      <th>top</th>\n",
       "      <th>freq</th>\n",
       "      <th>count</th>\n",
       "      <th>unique</th>\n",
       "      <th>...</th>\n",
       "      <th>top</th>\n",
       "      <th>freq</th>\n",
       "      <th>count</th>\n",
       "      <th>unique</th>\n",
       "      <th>top</th>\n",
       "      <th>freq</th>\n",
       "      <th>count</th>\n",
       "      <th>unique</th>\n",
       "      <th>top</th>\n",
       "      <th>freq</th>\n",
       "    </tr>\n",
       "    <tr>\n",
       "      <th>label</th>\n",
       "      <th></th>\n",
       "      <th></th>\n",
       "      <th></th>\n",
       "      <th></th>\n",
       "      <th></th>\n",
       "      <th></th>\n",
       "      <th></th>\n",
       "      <th></th>\n",
       "      <th></th>\n",
       "      <th></th>\n",
       "      <th></th>\n",
       "      <th></th>\n",
       "      <th></th>\n",
       "      <th></th>\n",
       "      <th></th>\n",
       "      <th></th>\n",
       "      <th></th>\n",
       "      <th></th>\n",
       "      <th></th>\n",
       "      <th></th>\n",
       "      <th></th>\n",
       "    </tr>\n",
       "  </thead>\n",
       "  <tbody>\n",
       "    <tr>\n",
       "      <th>negative</th>\n",
       "      <td>483</td>\n",
       "      <td>483</td>\n",
       "      <td>tecnica\\n\\nrealizada aquisicao volumetrica em ...</td>\n",
       "      <td>1</td>\n",
       "      <td>483</td>\n",
       "      <td>23</td>\n",
       "      <td></td>\n",
       "      <td>460</td>\n",
       "      <td>483</td>\n",
       "      <td>483</td>\n",
       "      <td>...</td>\n",
       "      <td></td>\n",
       "      <td>22</td>\n",
       "      <td>483</td>\n",
       "      <td>457</td>\n",
       "      <td></td>\n",
       "      <td>22</td>\n",
       "      <td>483</td>\n",
       "      <td>456</td>\n",
       "      <td></td>\n",
       "      <td>22</td>\n",
       "    </tr>\n",
       "    <tr>\n",
       "      <th>positive</th>\n",
       "      <td>74</td>\n",
       "      <td>74</td>\n",
       "      <td>tomografia computadorizada do cranio\\n\\ntecnic...</td>\n",
       "      <td>1</td>\n",
       "      <td>74</td>\n",
       "      <td>8</td>\n",
       "      <td></td>\n",
       "      <td>67</td>\n",
       "      <td>74</td>\n",
       "      <td>74</td>\n",
       "      <td>...</td>\n",
       "      <td></td>\n",
       "      <td>2</td>\n",
       "      <td>74</td>\n",
       "      <td>73</td>\n",
       "      <td></td>\n",
       "      <td>2</td>\n",
       "      <td>74</td>\n",
       "      <td>73</td>\n",
       "      <td></td>\n",
       "      <td>2</td>\n",
       "    </tr>\n",
       "  </tbody>\n",
       "</table>\n",
       "<p>2 rows × 24 columns</p>\n",
       "</div>"
      ],
      "text/plain": [
       "         report                                                            \\\n",
       "          count unique                                                top   \n",
       "label                                                                       \n",
       "negative    483    483  tecnica\\n\\nrealizada aquisicao volumetrica em ...   \n",
       "positive     74     74  tomografia computadorizada do cranio\\n\\ntecnic...   \n",
       "\n",
       "              conclusao                 relatorio_sem_conclusao         ...  \\\n",
       "         freq     count unique top freq                   count unique  ...   \n",
       "label                                                                   ...   \n",
       "negative    1       483     23      460                     483    483  ...   \n",
       "positive    1        74      8       67                      74     74  ...   \n",
       "\n",
       "         descricao      descricao_clean                 preprocessed         \\\n",
       "               top freq           count unique top freq        count unique   \n",
       "label                                                                         \n",
       "negative             22             483    457       22          483    456   \n",
       "positive              2              74     73        2           74     73   \n",
       "\n",
       "                   \n",
       "         top freq  \n",
       "label              \n",
       "negative       22  \n",
       "positive        2  \n",
       "\n",
       "[2 rows x 24 columns]"
      ]
     },
     "execution_count": 25,
     "metadata": {},
     "output_type": "execute_result"
    }
   ],
   "source": [
    "df.groupby('label').describe()\n"
   ]
  },
  {
   "cell_type": "code",
   "execution_count": 26,
   "metadata": {},
   "outputs": [
    {
     "data": {
      "text/html": [
       "<div>\n",
       "<style scoped>\n",
       "    .dataframe tbody tr th:only-of-type {\n",
       "        vertical-align: middle;\n",
       "    }\n",
       "\n",
       "    .dataframe tbody tr th {\n",
       "        vertical-align: top;\n",
       "    }\n",
       "\n",
       "    .dataframe thead th {\n",
       "        text-align: right;\n",
       "    }\n",
       "</style>\n",
       "<table border=\"1\" class=\"dataframe\">\n",
       "  <thead>\n",
       "    <tr style=\"text-align: right;\">\n",
       "      <th></th>\n",
       "      <th>report</th>\n",
       "      <th>label</th>\n",
       "      <th>conclusao</th>\n",
       "      <th>relatorio_sem_conclusao</th>\n",
       "      <th>descricao</th>\n",
       "      <th>descricao_clean</th>\n",
       "      <th>preprocessed</th>\n",
       "      <th>label_num</th>\n",
       "    </tr>\n",
       "  </thead>\n",
       "  <tbody>\n",
       "    <tr>\n",
       "      <th>0</th>\n",
       "      <td>tecnica: cortes do cranio com tecnica volumetr...</td>\n",
       "      <td>positive</td>\n",
       "      <td></td>\n",
       "      <td>tecnica: cortes do cranio com tecnica volumetr...</td>\n",
       "      <td>\\naumento das partes moles das regioes peri or...</td>\n",
       "      <td>aumento das partes moles das regioes peri orb...</td>\n",
       "      <td>aument part mol regio per orbit mai direit . ...</td>\n",
       "      <td>1</td>\n",
       "    </tr>\n",
       "    <tr>\n",
       "      <th>1</th>\n",
       "      <td>exame de tomografia computadorizada de cranio\\...</td>\n",
       "      <td>positive</td>\n",
       "      <td>\\ncontrole pos tratamento endovascular de hsa....</td>\n",
       "      <td>exame de tomografia computadorizada de cranio\\...</td>\n",
       "      <td>\\ncalota craniana com perda da aeracao da mast...</td>\n",
       "      <td>calota craniana com perda da aeracao da masto...</td>\n",
       "      <td>calot crani perd aeraca mastoid direit . espa...</td>\n",
       "      <td>1</td>\n",
       "    </tr>\n",
       "    <tr>\n",
       "      <th>2</th>\n",
       "      <td>tomografia computadorizada de abdome e pelve\\n...</td>\n",
       "      <td>positive</td>\n",
       "      <td></td>\n",
       "      <td>tomografia computadorizada de abdome e pelve\\n...</td>\n",
       "      <td>\\n\\npancreas de dimensoes aumentadas, principa...</td>\n",
       "      <td>pancreas de dimensoes aumentadas  principalm...</td>\n",
       "      <td>pancre dimenso aument princip cabec process u...</td>\n",
       "      <td>1</td>\n",
       "    </tr>\n",
       "    <tr>\n",
       "      <th>3</th>\n",
       "      <td>tecnica: cortes do cranio com\\ntecnica volumet...</td>\n",
       "      <td>positive</td>\n",
       "      <td></td>\n",
       "      <td>tecnica: cortes do cranio com\\ntecnica volumet...</td>\n",
       "      <td>\\n\\nexame realizado em ----------.\\n\\nleve aum...</td>\n",
       "      <td>exame realizado em             . leve aument...</td>\n",
       "      <td>exam realiz . lev aument volumetr part mol di...</td>\n",
       "      <td>1</td>\n",
       "    </tr>\n",
       "    <tr>\n",
       "      <th>4</th>\n",
       "      <td>exame de tomografia computadorizada de cranio\\...</td>\n",
       "      <td>positive</td>\n",
       "      <td>\\ncontrole do tratamento cirurgico para clipag...</td>\n",
       "      <td>exame de tomografia computadorizada de cranio\\...</td>\n",
       "      <td>\\ncalota craniana com craniotomia frontal dire...</td>\n",
       "      <td>calota craniana com craniotomia frontal direi...</td>\n",
       "      <td>calot crani craniotom front direit espac peri...</td>\n",
       "      <td>1</td>\n",
       "    </tr>\n",
       "    <tr>\n",
       "      <th>...</th>\n",
       "      <td>...</td>\n",
       "      <td>...</td>\n",
       "      <td>...</td>\n",
       "      <td>...</td>\n",
       "      <td>...</td>\n",
       "      <td>...</td>\n",
       "      <td>...</td>\n",
       "      <td>...</td>\n",
       "    </tr>\n",
       "    <tr>\n",
       "      <th>552</th>\n",
       "      <td>tecnica: realizada a aquisicao volumetrica com...</td>\n",
       "      <td>negative</td>\n",
       "      <td></td>\n",
       "      <td>tecnica: realizada a aquisicao volumetrica com...</td>\n",
       "      <td>exame realizado em ----------.\\ndiminutos nod...</td>\n",
       "      <td>exame realizado em             . diminutos no...</td>\n",
       "      <td>exam realiz . diminut nodul nao calcific espa...</td>\n",
       "      <td>0</td>\n",
       "    </tr>\n",
       "    <tr>\n",
       "      <th>553</th>\n",
       "      <td>tomografia computadorizada para pesquisa de li...</td>\n",
       "      <td>negative</td>\n",
       "      <td></td>\n",
       "      <td>tomografia computadorizada para pesquisa de li...</td>\n",
       "      <td></td>\n",
       "      <td></td>\n",
       "      <td></td>\n",
       "      <td>0</td>\n",
       "    </tr>\n",
       "    <tr>\n",
       "      <th>554</th>\n",
       "      <td>tomografia computadorizada de torax\\n\\ntecnica...</td>\n",
       "      <td>negative</td>\n",
       "      <td></td>\n",
       "      <td>tomografia computadorizada de torax\\n\\ntecnica...</td>\n",
       "      <td>:\\n\\nem comparacao com o exame realizado em 20...</td>\n",
       "      <td>em comparacao com o exame realizado em 20 a...</td>\n",
       "      <td>comparaca exam realiz 20 ago 15 observ discre...</td>\n",
       "      <td>0</td>\n",
       "    </tr>\n",
       "    <tr>\n",
       "      <th>555</th>\n",
       "      <td>angiotomografia computadorizada das arterias i...</td>\n",
       "      <td>negative</td>\n",
       "      <td>diagnostica:</td>\n",
       "      <td>angiotomografia computadorizada das arterias i...</td>\n",
       "      <td>:\\n\\nplacas ateromatosas calcificadas nos segm...</td>\n",
       "      <td>placas ateromatosas calcificadas nos segmen...</td>\n",
       "      <td>plac ateromat calcific segment cavern supracl...</td>\n",
       "      <td>0</td>\n",
       "    </tr>\n",
       "    <tr>\n",
       "      <th>556</th>\n",
       "      <td>tomografia computadorizada do cranio\\n\\ntecnic...</td>\n",
       "      <td>negative</td>\n",
       "      <td></td>\n",
       "      <td>tomografia computadorizada do cranio\\n\\ntecnic...</td>\n",
       "      <td>:\\n\\nformacao expansiva centrada na linha medi...</td>\n",
       "      <td>formacao expansiva centrada na linha media ...</td>\n",
       "      <td>formaca expans centr linh med front bilater h...</td>\n",
       "      <td>0</td>\n",
       "    </tr>\n",
       "  </tbody>\n",
       "</table>\n",
       "<p>557 rows × 8 columns</p>\n",
       "</div>"
      ],
      "text/plain": [
       "                                                report     label  \\\n",
       "0    tecnica: cortes do cranio com tecnica volumetr...  positive   \n",
       "1    exame de tomografia computadorizada de cranio\\...  positive   \n",
       "2    tomografia computadorizada de abdome e pelve\\n...  positive   \n",
       "3    tecnica: cortes do cranio com\\ntecnica volumet...  positive   \n",
       "4    exame de tomografia computadorizada de cranio\\...  positive   \n",
       "..                                                 ...       ...   \n",
       "552  tecnica: realizada a aquisicao volumetrica com...  negative   \n",
       "553  tomografia computadorizada para pesquisa de li...  negative   \n",
       "554  tomografia computadorizada de torax\\n\\ntecnica...  negative   \n",
       "555  angiotomografia computadorizada das arterias i...  negative   \n",
       "556  tomografia computadorizada do cranio\\n\\ntecnic...  negative   \n",
       "\n",
       "                                             conclusao  \\\n",
       "0                                                        \n",
       "1    \\ncontrole pos tratamento endovascular de hsa....   \n",
       "2                                                        \n",
       "3                                                        \n",
       "4    \\ncontrole do tratamento cirurgico para clipag...   \n",
       "..                                                 ...   \n",
       "552                                                      \n",
       "553                                                      \n",
       "554                                                      \n",
       "555                                       diagnostica:   \n",
       "556                                                      \n",
       "\n",
       "                               relatorio_sem_conclusao  \\\n",
       "0    tecnica: cortes do cranio com tecnica volumetr...   \n",
       "1    exame de tomografia computadorizada de cranio\\...   \n",
       "2    tomografia computadorizada de abdome e pelve\\n...   \n",
       "3    tecnica: cortes do cranio com\\ntecnica volumet...   \n",
       "4    exame de tomografia computadorizada de cranio\\...   \n",
       "..                                                 ...   \n",
       "552  tecnica: realizada a aquisicao volumetrica com...   \n",
       "553  tomografia computadorizada para pesquisa de li...   \n",
       "554  tomografia computadorizada de torax\\n\\ntecnica...   \n",
       "555  angiotomografia computadorizada das arterias i...   \n",
       "556  tomografia computadorizada do cranio\\n\\ntecnic...   \n",
       "\n",
       "                                             descricao  \\\n",
       "0    \\naumento das partes moles das regioes peri or...   \n",
       "1    \\ncalota craniana com perda da aeracao da mast...   \n",
       "2    \\n\\npancreas de dimensoes aumentadas, principa...   \n",
       "3    \\n\\nexame realizado em ----------.\\n\\nleve aum...   \n",
       "4    \\ncalota craniana com craniotomia frontal dire...   \n",
       "..                                                 ...   \n",
       "552   exame realizado em ----------.\\ndiminutos nod...   \n",
       "553                                                      \n",
       "554  :\\n\\nem comparacao com o exame realizado em 20...   \n",
       "555  :\\n\\nplacas ateromatosas calcificadas nos segm...   \n",
       "556  :\\n\\nformacao expansiva centrada na linha medi...   \n",
       "\n",
       "                                       descricao_clean  \\\n",
       "0     aumento das partes moles das regioes peri orb...   \n",
       "1     calota craniana com perda da aeracao da masto...   \n",
       "2      pancreas de dimensoes aumentadas  principalm...   \n",
       "3      exame realizado em             . leve aument...   \n",
       "4     calota craniana com craniotomia frontal direi...   \n",
       "..                                                 ...   \n",
       "552   exame realizado em             . diminutos no...   \n",
       "553                                                      \n",
       "554     em comparacao com o exame realizado em 20 a...   \n",
       "555     placas ateromatosas calcificadas nos segmen...   \n",
       "556     formacao expansiva centrada na linha media ...   \n",
       "\n",
       "                                          preprocessed  label_num  \n",
       "0     aument part mol regio per orbit mai direit . ...          1  \n",
       "1     calot crani perd aeraca mastoid direit . espa...          1  \n",
       "2     pancre dimenso aument princip cabec process u...          1  \n",
       "3     exam realiz . lev aument volumetr part mol di...          1  \n",
       "4     calot crani craniotom front direit espac peri...          1  \n",
       "..                                                 ...        ...  \n",
       "552   exam realiz . diminut nodul nao calcific espa...          0  \n",
       "553                                                             0  \n",
       "554   comparaca exam realiz 20 ago 15 observ discre...          0  \n",
       "555   plac ateromat calcific segment cavern supracl...          0  \n",
       "556   formaca expans centr linh med front bilater h...          0  \n",
       "\n",
       "[557 rows x 8 columns]"
      ]
     },
     "execution_count": 26,
     "metadata": {},
     "output_type": "execute_result"
    }
   ],
   "source": [
    "df['label_num'] = df.label.map({'negative':0, 'positive':1})\n",
    "df"
   ]
  },
  {
   "cell_type": "code",
   "execution_count": 27,
   "metadata": {},
   "outputs": [
    {
     "data": {
      "text/html": [
       "<div>\n",
       "<style scoped>\n",
       "    .dataframe tbody tr th:only-of-type {\n",
       "        vertical-align: middle;\n",
       "    }\n",
       "\n",
       "    .dataframe tbody tr th {\n",
       "        vertical-align: top;\n",
       "    }\n",
       "\n",
       "    .dataframe thead th {\n",
       "        text-align: right;\n",
       "    }\n",
       "</style>\n",
       "<table border=\"1\" class=\"dataframe\">\n",
       "  <thead>\n",
       "    <tr style=\"text-align: right;\">\n",
       "      <th></th>\n",
       "      <th>report</th>\n",
       "      <th>label</th>\n",
       "      <th>conclusao</th>\n",
       "      <th>relatorio_sem_conclusao</th>\n",
       "      <th>descricao</th>\n",
       "      <th>descricao_clean</th>\n",
       "      <th>preprocessed</th>\n",
       "      <th>label_num</th>\n",
       "      <th>report_len</th>\n",
       "      <th>preprocessed_len</th>\n",
       "    </tr>\n",
       "  </thead>\n",
       "  <tbody>\n",
       "    <tr>\n",
       "      <th>0</th>\n",
       "      <td>tecnica: cortes do cranio com tecnica volumetr...</td>\n",
       "      <td>positive</td>\n",
       "      <td></td>\n",
       "      <td>tecnica: cortes do cranio com tecnica volumetr...</td>\n",
       "      <td>\\naumento das partes moles das regioes peri or...</td>\n",
       "      <td>aumento das partes moles das regioes peri orb...</td>\n",
       "      <td>aument part mol regio per orbit mai direit . ...</td>\n",
       "      <td>1</td>\n",
       "      <td>1568</td>\n",
       "      <td>959</td>\n",
       "    </tr>\n",
       "    <tr>\n",
       "      <th>1</th>\n",
       "      <td>exame de tomografia computadorizada de cranio\\...</td>\n",
       "      <td>positive</td>\n",
       "      <td>\\ncontrole pos tratamento endovascular de hsa....</td>\n",
       "      <td>exame de tomografia computadorizada de cranio\\...</td>\n",
       "      <td>\\ncalota craniana com perda da aeracao da mast...</td>\n",
       "      <td>calota craniana com perda da aeracao da masto...</td>\n",
       "      <td>calot crani perd aeraca mastoid direit . espa...</td>\n",
       "      <td>1</td>\n",
       "      <td>953</td>\n",
       "      <td>363</td>\n",
       "    </tr>\n",
       "    <tr>\n",
       "      <th>2</th>\n",
       "      <td>tomografia computadorizada de abdome e pelve\\n...</td>\n",
       "      <td>positive</td>\n",
       "      <td></td>\n",
       "      <td>tomografia computadorizada de abdome e pelve\\n...</td>\n",
       "      <td>\\n\\npancreas de dimensoes aumentadas, principa...</td>\n",
       "      <td>pancreas de dimensoes aumentadas  principalm...</td>\n",
       "      <td>pancre dimenso aument princip cabec process u...</td>\n",
       "      <td>1</td>\n",
       "      <td>1004</td>\n",
       "      <td>545</td>\n",
       "    </tr>\n",
       "    <tr>\n",
       "      <th>3</th>\n",
       "      <td>tecnica: cortes do cranio com\\ntecnica volumet...</td>\n",
       "      <td>positive</td>\n",
       "      <td></td>\n",
       "      <td>tecnica: cortes do cranio com\\ntecnica volumet...</td>\n",
       "      <td>\\n\\nexame realizado em ----------.\\n\\nleve aum...</td>\n",
       "      <td>exame realizado em             . leve aument...</td>\n",
       "      <td>exam realiz . lev aument volumetr part mol di...</td>\n",
       "      <td>1</td>\n",
       "      <td>1051</td>\n",
       "      <td>543</td>\n",
       "    </tr>\n",
       "    <tr>\n",
       "      <th>4</th>\n",
       "      <td>exame de tomografia computadorizada de cranio\\...</td>\n",
       "      <td>positive</td>\n",
       "      <td>\\ncontrole do tratamento cirurgico para clipag...</td>\n",
       "      <td>exame de tomografia computadorizada de cranio\\...</td>\n",
       "      <td>\\ncalota craniana com craniotomia frontal dire...</td>\n",
       "      <td>calota craniana com craniotomia frontal direi...</td>\n",
       "      <td>calot crani craniotom front direit espac peri...</td>\n",
       "      <td>1</td>\n",
       "      <td>920</td>\n",
       "      <td>401</td>\n",
       "    </tr>\n",
       "  </tbody>\n",
       "</table>\n",
       "</div>"
      ],
      "text/plain": [
       "                                              report     label  \\\n",
       "0  tecnica: cortes do cranio com tecnica volumetr...  positive   \n",
       "1  exame de tomografia computadorizada de cranio\\...  positive   \n",
       "2  tomografia computadorizada de abdome e pelve\\n...  positive   \n",
       "3  tecnica: cortes do cranio com\\ntecnica volumet...  positive   \n",
       "4  exame de tomografia computadorizada de cranio\\...  positive   \n",
       "\n",
       "                                           conclusao  \\\n",
       "0                                                      \n",
       "1  \\ncontrole pos tratamento endovascular de hsa....   \n",
       "2                                                      \n",
       "3                                                      \n",
       "4  \\ncontrole do tratamento cirurgico para clipag...   \n",
       "\n",
       "                             relatorio_sem_conclusao  \\\n",
       "0  tecnica: cortes do cranio com tecnica volumetr...   \n",
       "1  exame de tomografia computadorizada de cranio\\...   \n",
       "2  tomografia computadorizada de abdome e pelve\\n...   \n",
       "3  tecnica: cortes do cranio com\\ntecnica volumet...   \n",
       "4  exame de tomografia computadorizada de cranio\\...   \n",
       "\n",
       "                                           descricao  \\\n",
       "0  \\naumento das partes moles das regioes peri or...   \n",
       "1  \\ncalota craniana com perda da aeracao da mast...   \n",
       "2  \\n\\npancreas de dimensoes aumentadas, principa...   \n",
       "3  \\n\\nexame realizado em ----------.\\n\\nleve aum...   \n",
       "4  \\ncalota craniana com craniotomia frontal dire...   \n",
       "\n",
       "                                     descricao_clean  \\\n",
       "0   aumento das partes moles das regioes peri orb...   \n",
       "1   calota craniana com perda da aeracao da masto...   \n",
       "2    pancreas de dimensoes aumentadas  principalm...   \n",
       "3    exame realizado em             . leve aument...   \n",
       "4   calota craniana com craniotomia frontal direi...   \n",
       "\n",
       "                                        preprocessed  label_num  report_len  \\\n",
       "0   aument part mol regio per orbit mai direit . ...          1        1568   \n",
       "1   calot crani perd aeraca mastoid direit . espa...          1         953   \n",
       "2   pancre dimenso aument princip cabec process u...          1        1004   \n",
       "3   exam realiz . lev aument volumetr part mol di...          1        1051   \n",
       "4   calot crani craniotom front direit espac peri...          1         920   \n",
       "\n",
       "   preprocessed_len  \n",
       "0               959  \n",
       "1               363  \n",
       "2               545  \n",
       "3               543  \n",
       "4               401  "
      ]
     },
     "execution_count": 27,
     "metadata": {},
     "output_type": "execute_result"
    }
   ],
   "source": [
    "df['report_len'] = df.report.apply(len)\n",
    "df['preprocessed_len'] = df.preprocessed.apply(len)\n",
    "\n",
    "df.head()"
   ]
  },
  {
   "cell_type": "code",
   "execution_count": 51,
   "metadata": {},
   "outputs": [
    {
     "data": {
      "text/plain": [
       "Text(0.5, 0, 'Reports Length')"
      ]
     },
     "execution_count": 51,
     "metadata": {},
     "output_type": "execute_result"
    },
    {
     "data": {
      "image/png": "[encoded data removed]",
      "text/plain": [
       "<Figure size 864x576 with 1 Axes>"
      ]
     },
     "metadata": {},
     "output_type": "display_data"
    }
   ],
   "source": [
    "plt.figure(figsize=(12, 8))\n",
    "\n",
    "df[df.label=='positive'].report_len.plot(bins=35, kind='hist', color='blue', \n",
    "                                       label='Positive reports', alpha=0.6)\n",
    "df[df.label=='negative'].report_len.plot(kind='hist', color='red', \n",
    "                                       label='Negative reports', alpha=0.6)\n",
    "plt.legend()\n",
    "plt.xlabel(\"Reports Length\")"
   ]
  },
  {
   "cell_type": "code",
   "execution_count": 29,
   "metadata": {},
   "outputs": [
    {
     "name": "stdout",
     "output_type": "stream",
     "text": [
      "[('.', 377), ('direit', 99), ('esquerd', 79), ('cerebr', 66), ('norm', 63), ('ventricul', 56), ('med', 55), ('sulc', 51), ('cm', 46), ('x', 36), ('0', 35), ('adjac', 34), ('cerebel', 31), ('aspect', 30), ('front', 29), ('parenqu', 29), ('are', 29), ('later', 28), ('pariet', 28), ('compati', 28), ('cistern', 27), ('art', 27), ('efeit', 26), ('regia', 25), ('tempor', 25), ('associ', 25), ('tronc', 25), ('morfolog', 25), ('lob', 24), ('dimenso', 22), ('centr', 22), ('3', 22), ('aument', 21), ('apag', 21), ('expans', 21), ('hipoatenu', 20), ('espess', 20), ('determin', 20), ('1', 20), ('imag', 20), ('discret', 19), ('5', 19), ('calibr', 19), ('inferi', 19), ('desvi', 18), ('atenuaca', 18), ('foc', 17), ('conserv', 17), ('ate', 17), ('encefal', 17)]\n"
     ]
    }
   ],
   "source": [
    "from collections import Counter\n",
    "\n",
    "words = df[df.label=='positive'].preprocessed.apply(lambda x: [word.lower() for word in x.split()])\n",
    "positive_words = Counter()\n",
    "\n",
    "for msg in words:\n",
    "    positive_words.update(msg)\n",
    "    \n",
    "print(positive_words.most_common(50))"
   ]
  },
  {
   "cell_type": "code",
   "execution_count": 30,
   "metadata": {},
   "outputs": [
    {
     "name": "stdout",
     "output_type": "stream",
     "text": [
      "[('.', 3039), ('norm', 488), ('direit', 349), ('med', 306), ('esquerd', 296), ('cm', 287), ('aspect', 259), ('nao', 240), ('dimenso', 235), ('0', 225), ('preserv', 222), ('atenuaca', 217), ('calibr', 187), ('morfolog', 184), ('estrut', 180), ('cerebr', 177), ('parenqu', 169), ('sinal', 163), ('espess', 159), ('ventricul', 159), ('reduca', 156), ('lob', 155), ('alteraco', 152), ('1', 151), ('exam', 151), ('contorn', 148), ('conserv', 139), ('x', 137), ('art', 137), ('ausenc', 132), ('pulmon', 130), ('signific', 127), ('nodul', 125), ('ha', 123), ('posteri', 123), ('vertebr', 118), ('bilater', 116), ('sulc', 114), ('anteri', 113), ('osse', 111), ('discret', 108), ('centr', 105), ('pequen', 104), ('topic', 104), ('coefici', 103), ('estud', 99), ('ate', 97), ('superi', 97), ('aument', 96), ('inferi', 95)]\n"
     ]
    }
   ],
   "source": [
    "from collections import Counter\n",
    "\n",
    "words = df[df.label=='negative'].preprocessed.apply(lambda x: [word.lower() for word in x.split()])\n",
    "negative_words = Counter()\n",
    "\n",
    "for msg in words:\n",
    "    negative_words.update(msg)\n",
    "    \n",
    "print(negative_words.most_common(50))"
   ]
  },
  {
   "cell_type": "code",
   "execution_count": 52,
   "metadata": {},
   "outputs": [
    {
     "name": "stdout",
     "output_type": "stream",
     "text": [
      "(557,)\n",
      "(557,)\n"
     ]
    }
   ],
   "source": [
    "X = df.preprocessed\n",
    "y = df.label_num\n",
    "print(X.shape)\n",
    "print(y.shape)"
   ]
  },
  {
   "cell_type": "markdown",
   "metadata": {},
   "source": [
    "### Split de dataset"
   ]
  },
  {
   "cell_type": "code",
   "execution_count": 54,
   "metadata": {},
   "outputs": [
    {
     "name": "stdout",
     "output_type": "stream",
     "text": [
      "(417,)\n",
      "(140,)\n",
      "(417,)\n",
      "(140,)\n"
     ]
    }
   ],
   "source": [
    "# split X and y em treino e teste  \n",
    "from sklearn.model_selection import train_test_split\n",
    "X_train, X_test, y_train, y_test = train_test_split(X, y, random_state=1)\n",
    "print(X_train.shape)\n",
    "print(X_test.shape)\n",
    "print(y_train.shape)\n",
    "print(y_test.shape)"
   ]
  },
  {
   "cell_type": "markdown",
   "metadata": {},
   "source": [
    "### Vetorização"
   ]
  },
  {
   "cell_type": "code",
   "execution_count": 55,
   "metadata": {},
   "outputs": [
    {
     "data": {
      "text/plain": [
       "CountVectorizer()"
      ]
     },
     "execution_count": 55,
     "metadata": {},
     "output_type": "execute_result"
    }
   ],
   "source": [
    "from sklearn.feature_extraction.text import CountVectorizer\n",
    "\n",
    "# instanciar o vectorizador\n",
    "vect = CountVectorizer()\n",
    "vect.fit(X_train)"
   ]
  },
  {
   "cell_type": "code",
   "execution_count": 56,
   "metadata": {},
   "outputs": [],
   "source": [
    "# Aprender  o vocabulario de dados do texto, então usá-lo para criar uma matrix \n",
    "\n",
    "X_train_dtm = vect.transform(X_train)\n"
   ]
  },
  {
   "cell_type": "code",
   "execution_count": 57,
   "metadata": {},
   "outputs": [],
   "source": [
    "X_train_dtm = vect.fit_transform(X_train)"
   ]
  },
  {
   "cell_type": "code",
   "execution_count": 58,
   "metadata": {},
   "outputs": [
    {
     "data": {
      "text/plain": [
       "<417x2050 sparse matrix of type '<class 'numpy.int64'>'\n",
       "\twith 17716 stored elements in Compressed Sparse Row format>"
      ]
     },
     "execution_count": 58,
     "metadata": {},
     "output_type": "execute_result"
    }
   ],
   "source": [
    "# examinar a matrix\n",
    "X_train_dtm"
   ]
  },
  {
   "cell_type": "code",
   "execution_count": 59,
   "metadata": {},
   "outputs": [
    {
     "name": "stdout",
     "output_type": "stream",
     "text": [
      "  (0, 747)\t1\n",
      "  (0, 1497)\t1\n",
      "  (0, 413)\t1\n",
      "  (0, 392)\t4\n",
      "  (0, 499)\t1\n",
      "  (0, 2018)\t2\n",
      "  (0, 1162)\t1\n",
      "  (0, 1799)\t1\n",
      "  (0, 1313)\t1\n",
      "  (0, 1812)\t1\n",
      "  (0, 651)\t1\n",
      "  (0, 1353)\t5\n",
      "  (0, 1907)\t1\n",
      "  (0, 1638)\t1\n",
      "  (0, 213)\t2\n",
      "  (0, 1470)\t2\n",
      "  (0, 391)\t1\n",
      "  (0, 1966)\t1\n",
      "  (0, 1998)\t1\n",
      "  (0, 226)\t1\n",
      "  (0, 603)\t1\n",
      "  (0, 1458)\t1\n",
      "  (0, 1854)\t1\n",
      "  (1, 499)\t1\n",
      "  (1, 1313)\t1\n",
      "  :\t:\n",
      "  (415, 219)\t1\n",
      "  (415, 211)\t1\n",
      "  (415, 418)\t1\n",
      "  (415, 172)\t1\n",
      "  (415, 447)\t1\n",
      "  (415, 479)\t1\n",
      "  (415, 1007)\t1\n",
      "  (415, 381)\t1\n",
      "  (415, 382)\t1\n",
      "  (415, 512)\t1\n",
      "  (415, 1842)\t1\n",
      "  (415, 1913)\t1\n",
      "  (416, 452)\t1\n",
      "  (416, 796)\t2\n",
      "  (416, 632)\t1\n",
      "  (416, 1201)\t1\n",
      "  (416, 1039)\t1\n",
      "  (416, 764)\t2\n",
      "  (416, 790)\t1\n",
      "  (416, 198)\t1\n",
      "  (416, 1767)\t1\n",
      "  (416, 828)\t1\n",
      "  (416, 709)\t1\n",
      "  (416, 1084)\t1\n",
      "  (416, 451)\t1\n"
     ]
    }
   ],
   "source": [
    "print(X_train_dtm)"
   ]
  },
  {
   "cell_type": "code",
   "execution_count": 38,
   "metadata": {},
   "outputs": [
    {
     "name": "stdout",
     "output_type": "stream",
     "text": [
      "  (0, 125)\t2\n",
      "  (0, 213)\t2\n",
      "  (0, 223)\t1\n",
      "  (0, 247)\t1\n",
      "  (0, 277)\t1\n",
      "  (0, 378)\t2\n",
      "  (0, 384)\t1\n",
      "  (0, 422)\t1\n",
      "  (0, 462)\t1\n",
      "  (0, 499)\t2\n",
      "  (0, 511)\t1\n",
      "  (0, 534)\t1\n",
      "  (0, 625)\t2\n",
      "  (0, 656)\t3\n",
      "  (0, 742)\t1\n",
      "  (0, 763)\t1\n",
      "  (0, 786)\t1\n",
      "  (0, 880)\t1\n",
      "  (0, 882)\t2\n",
      "  (0, 885)\t1\n",
      "  (0, 930)\t1\n",
      "  (0, 1229)\t1\n",
      "  (0, 1253)\t1\n",
      "  (0, 1310)\t1\n",
      "  (0, 1321)\t2\n",
      "  :\t:\n",
      "  (139, 632)\t1\n",
      "  (139, 667)\t1\n",
      "  (139, 695)\t1\n",
      "  (139, 718)\t1\n",
      "  (139, 779)\t1\n",
      "  (139, 780)\t1\n",
      "  (139, 796)\t1\n",
      "  (139, 822)\t1\n",
      "  (139, 882)\t1\n",
      "  (139, 1023)\t1\n",
      "  (139, 1241)\t1\n",
      "  (139, 1325)\t1\n",
      "  (139, 1358)\t1\n",
      "  (139, 1411)\t1\n",
      "  (139, 1516)\t3\n",
      "  (139, 1519)\t2\n",
      "  (139, 1575)\t1\n",
      "  (139, 1584)\t1\n",
      "  (139, 1670)\t2\n",
      "  (139, 1785)\t1\n",
      "  (139, 1803)\t1\n",
      "  (139, 1834)\t1\n",
      "  (139, 1894)\t1\n",
      "  (139, 1907)\t1\n",
      "  (139, 2041)\t1\n"
     ]
    }
   ],
   "source": [
    "X_test_dtm = vect.transform(X_test)\n",
    "print(X_test_dtm)"
   ]
  },
  {
   "cell_type": "markdown",
   "metadata": {},
   "source": [
    "### Treinamento"
   ]
  },
  {
   "cell_type": "code",
   "execution_count": 39,
   "metadata": {},
   "outputs": [],
   "source": [
    "# from sklearn.feature_extraction.text import TfidfTransformer\n",
    "\n",
    "# tfidf_transformer = TfidfTransformer()\n",
    "# tfidf_transformer.fit(X_train_dtm)\n",
    "# tfidf_transformer.transform(X_train_dtm)"
   ]
  },
  {
   "cell_type": "markdown",
   "metadata": {},
   "source": [
    "Construindo e avaliando o modelo Naive Bayes multinomial:\n",
    "\n",
    "O classificador multinomial Naive Bayes é adequado para classificação com características discretas (por exemplo, contagem de palavras para classificação de texto). A distribuição multinomial normalmente requer contagens de recursos inteiros. No entanto, na prática, contagens fracionárias como tf-idf também podem funcionar."
   ]
  },
  {
   "cell_type": "code",
   "execution_count": 60,
   "metadata": {},
   "outputs": [],
   "source": [
    "# importar o modelo Multinomial Naive Bayes \n",
    "from sklearn.naive_bayes import MultinomialNB\n",
    "nb = MultinomialNB()"
   ]
  },
  {
   "cell_type": "code",
   "execution_count": 61,
   "metadata": {},
   "outputs": [
    {
     "name": "stdout",
     "output_type": "stream",
     "text": [
      "CPU times: user 3.3 ms, sys: 1.57 ms, total: 4.87 ms\n",
      "Wall time: 3.69 ms\n"
     ]
    },
    {
     "data": {
      "text/plain": [
       "MultinomialNB()"
      ]
     },
     "execution_count": 61,
     "metadata": {},
     "output_type": "execute_result"
    }
   ],
   "source": [
    "# treinar o modelo usando X_train_dtm (temporizar com um IPython \"magic command\")\n",
    "%time nb.fit(X_train_dtm, y_train)"
   ]
  },
  {
   "cell_type": "code",
   "execution_count": 62,
   "metadata": {},
   "outputs": [],
   "source": [
    "# Fazer predições para X_test_dtm\n",
    "y_pred_class = nb.predict(X_test_dtm)"
   ]
  },
  {
   "cell_type": "code",
   "execution_count": 63,
   "metadata": {},
   "outputs": [
    {
     "data": {
      "text/plain": [
       "0.8642857142857143"
      ]
     },
     "execution_count": 63,
     "metadata": {},
     "output_type": "execute_result"
    }
   ],
   "source": [
    "# Calcular acurácia\n",
    "from sklearn import metrics\n",
    "metrics.accuracy_score(y_test, y_pred_class)"
   ]
  },
  {
   "cell_type": "code",
   "execution_count": 64,
   "metadata": {},
   "outputs": [
    {
     "data": {
      "text/plain": [
       "array([[108,  11],\n",
       "       [  8,  13]])"
      ]
     },
     "execution_count": 64,
     "metadata": {},
     "output_type": "execute_result"
    }
   ],
   "source": [
    "# # visualizar matrix de confusão\n",
    "metrics.confusion_matrix(y_test, y_pred_class)"
   ]
  },
  {
   "cell_type": "code",
   "execution_count": 65,
   "metadata": {},
   "outputs": [
    {
     "data": {
      "text/plain": [
       "(140,)"
      ]
     },
     "execution_count": 65,
     "metadata": {},
     "output_type": "execute_result"
    }
   ],
   "source": [
    "X_test.shape\n"
   ]
  },
  {
   "cell_type": "code",
   "execution_count": 66,
   "metadata": {},
   "outputs": [
    {
     "data": {
      "text/plain": [
       "221     nao ha sinal hemorrag process expans intracra...\n",
       "378     calot crani sinal craniotom front direit . es...\n",
       "349     presenc mater fixaca extern . frat cominu pla...\n",
       "499     mass sol heterogene limit mal defin aspect in...\n",
       "370     calot crani perd aeraca mastoid esquerd . esp...\n",
       "441     are encefalomalace pol tempor gir tempor infe...\n",
       "250     frat nao desalinh oss front esquerd extensa a...\n",
       "249     nao ha evidenc process expans intraparenquima...\n",
       "295     imag compati aneurism sacul topograf art comu...\n",
       "159     hipoatenuaca cor subcortic occipit esquerd ef...\n",
       "373     encefalomalac front esquerd determin alarg su...\n",
       "Name: preprocessed, dtype: object"
      ]
     },
     "execution_count": 66,
     "metadata": {},
     "output_type": "execute_result"
    }
   ],
   "source": [
    "# visualizar texto dos falsos positivos\n",
    "# X_test[(y_pred_class==1) & (y_test==0)]\n",
    "X_test[y_pred_class > y_test]"
   ]
  },
  {
   "cell_type": "code",
   "execution_count": 67,
   "metadata": {},
   "outputs": [
    {
     "data": {
      "text/plain": [
       "47     aparent falh ench art segment basal later lob...\n",
       "41     sinal tromboembol pulmon segment subsegment l...\n",
       "0      aument part mol regio per orbit mai direit . ...\n",
       "62     frat cominu terc arc cost esquerd destac desv...\n",
       "31     imag quart ventricul form contorn dimenso nor...\n",
       "3      exam realiz . lev aument volumetr part mol di...\n",
       "19     laud compar exam anteri dia evidenc not discr...\n",
       "16     apend cecal calibr aument 1 9 cm pared espess...\n",
       "Name: preprocessed, dtype: object"
      ]
     },
     "execution_count": 67,
     "metadata": {},
     "output_type": "execute_result"
    }
   ],
   "source": [
    "# visualizar texto dos falsos negativos\n",
    "X_test[y_pred_class < y_test]"
   ]
  },
  {
   "cell_type": "code",
   "execution_count": 48,
   "metadata": {},
   "outputs": [
    {
     "data": {
      "text/plain": [
       "' imag quart ventricul form contorn dimenso norm . tronc cerebr cerebel form contorn sinal norm . aument coleca extr axial subd atual exam compromet tod extensa hemisferi esquerd inclu regia occipit coefici atenuaca semelh liqu . ha aument efeit expans caracter mai compressa sulc cortic adjac .'"
      ]
     },
     "execution_count": 48,
     "metadata": {},
     "output_type": "execute_result"
    }
   ],
   "source": [
    "# Exemplo de falso negativo\n",
    "X_test[31]"
   ]
  },
  {
   "cell_type": "code",
   "execution_count": 49,
   "metadata": {},
   "outputs": [
    {
     "data": {
      "text/plain": [
       "array([1.37951858e-16, 1.06667141e-03, 9.39483562e-01, 2.22432968e-03,\n",
       "       7.24033582e-15, 1.27098321e-01, 9.77627192e-01, 9.10600657e-11,\n",
       "       1.00000000e+00, 7.55546180e-01, 3.36189221e-09, 4.41600861e-04,\n",
       "       3.45705221e-20, 1.06667141e-03, 2.35237360e-10, 2.16545451e-01,\n",
       "       6.23984803e-05, 2.43234339e-03, 1.27098321e-01, 9.21500499e-04,\n",
       "       4.93436742e-08, 2.21151697e-07, 2.49690074e-01, 1.27098321e-01,\n",
       "       6.67066962e-01, 1.00000000e+00, 6.67601704e-02, 1.71403905e-03,\n",
       "       7.47422308e-07, 1.31172527e-02, 1.17213883e-03, 2.95506202e-17,\n",
       "       9.99776464e-01, 1.73392342e-16, 3.65381363e-01, 9.99987273e-01,\n",
       "       2.73036456e-11, 1.37426737e-12, 3.46404859e-07, 2.04118379e-02,\n",
       "       2.66600465e-01, 1.88333085e-06, 1.93132444e-10, 8.21003702e-03,\n",
       "       8.76147809e-15, 8.11092962e-05, 5.28773266e-10, 8.62666573e-01,\n",
       "       1.25431843e-06, 1.65168613e-08, 6.29334380e-02, 7.49143293e-05,\n",
       "       8.53896678e-04, 1.90443770e-61, 1.31172527e-02, 9.99922481e-01,\n",
       "       1.37684903e-41, 1.04574664e-17, 1.14407851e-32, 9.99999867e-01,\n",
       "       5.30519314e-07, 6.73244346e-24, 8.80279303e-30, 1.34689545e-01,\n",
       "       8.10940183e-06, 1.27098321e-01, 9.98868241e-01, 2.28603359e-15,\n",
       "       5.77065451e-02, 1.00723127e-07, 4.79562818e-01, 9.12469061e-09,\n",
       "       1.33612958e-05, 8.13674938e-01, 2.52574540e-11, 6.61975142e-01,\n",
       "       3.74710954e-04, 2.18596830e-38, 4.08545035e-11, 2.61295951e-06,\n",
       "       6.60602556e-11, 8.95333140e-01, 5.40347729e-05, 9.99999151e-01,\n",
       "       1.30692643e-04, 1.74393222e-08, 5.61265390e-14, 9.99999798e-01,\n",
       "       1.55929194e-14, 9.51118774e-03, 7.07194982e-08, 9.99999281e-01,\n",
       "       8.02704348e-11, 2.26127970e-01, 3.84652895e-12, 3.40837889e-19,\n",
       "       2.15576405e-02, 1.72678343e-08, 1.72859192e-03, 5.69648694e-06,\n",
       "       3.01271387e-02, 1.78991292e-05, 1.27098321e-01, 1.36953451e-06,\n",
       "       1.51482327e-04, 2.21840214e-01, 2.56771231e-11, 9.99999907e-01,\n",
       "       1.93350119e-20, 2.21010711e-07, 5.19022270e-01, 3.52167241e-08,\n",
       "       8.98676549e-01, 7.14023350e-09, 1.20263547e-06, 5.41366086e-09,\n",
       "       9.99999989e-01, 2.02552086e-37, 2.18345860e-14, 1.09682936e-06,\n",
       "       8.00986469e-16, 9.98618166e-01, 4.38725425e-06, 2.09192270e-07,\n",
       "       4.31985235e-01, 9.75234128e-01, 1.27098321e-01, 5.25228573e-11,\n",
       "       5.84686566e-12, 1.24638836e-14, 2.53057211e-11, 6.12114868e-04,\n",
       "       1.08930992e-12, 4.38286816e-10, 4.66948525e-13, 2.07208864e-12,\n",
       "       5.94105257e-05, 3.44378150e-14, 3.92187589e-01, 1.34062886e-05])"
      ]
     },
     "execution_count": 49,
     "metadata": {},
     "output_type": "execute_result"
    }
   ],
   "source": [
    "# Calcular probabilidades preditas para X_test_dtm \n",
    "y_pred_prob = nb.predict_proba(X_test_dtm)[:, 1]\n",
    "y_pred_prob"
   ]
  },
  {
   "cell_type": "code",
   "execution_count": 68,
   "metadata": {},
   "outputs": [
    {
     "data": {
      "text/plain": [
       "0.7995198079231693"
      ]
     },
     "execution_count": 68,
     "metadata": {},
     "output_type": "execute_result"
    }
   ],
   "source": [
    "# Calcular AUC\n",
    "metrics.roc_auc_score(y_test, y_pred_prob)"
   ]
  },
  {
   "cell_type": "code",
   "execution_count": null,
   "metadata": {},
   "outputs": [],
   "source": []
  }
 ],
 "metadata": {
  "anaconda-cloud": {},
  "kernelspec": {
   "display_name": "Python 3",
   "language": "python",
   "name": "python3"
  },
  "language_info": {
   "codemirror_mode": {
    "name": "ipython",
    "version": 3
   },
   "file_extension": ".py",
   "mimetype": "text/x-python",
   "name": "python",
   "nbconvert_exporter": "python",
   "pygments_lexer": "ipython3",
   "version": "3.8.8"
  }
 },
 "nbformat": 4,
 "nbformat_minor": 1
}
